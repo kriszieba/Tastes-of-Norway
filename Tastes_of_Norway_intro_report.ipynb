{
  "nbformat": 4,
  "nbformat_minor": 0,
  "metadata": {
    "colab": {
      "name": "Tastes of Norway intro report.ipynb",
      "provenance": [],
      "authorship_tag": "ABX9TyOOqoul9NdTzx1nqWP7KT5f",
      "include_colab_link": true
    },
    "kernelspec": {
      "name": "python3",
      "display_name": "Python 3"
    }
  },
  "cells": [
    {
      "cell_type": "markdown",
      "metadata": {
        "id": "view-in-github",
        "colab_type": "text"
      },
      "source": [
        "<a href=\"https://colab.research.google.com/github/kriszieba/Tastes-of-Norway/blob/master/Tastes_of_Norway_intro_report.ipynb\" target=\"_parent\"><img src=\"https://colab.research.google.com/assets/colab-badge.svg\" alt=\"Open In Colab\"/></a>"
      ]
    },
    {
      "cell_type": "markdown",
      "metadata": {
        "id": "nabs0Of1_X-z",
        "colab_type": "text"
      },
      "source": [
        "# **Tastes of Norway**\n",
        "\n",
        "\n",
        "---\n",
        "\n"
      ]
    },
    {
      "cell_type": "markdown",
      "metadata": {
        "id": "VYfzFLZk_Dzv",
        "colab_type": "text"
      },
      "source": [
        "# Introduction"
      ]
    },
    {
      "cell_type": "markdown",
      "metadata": {
        "id": "tBVnln6p_H5I",
        "colab_type": "text"
      },
      "source": [
        "Although Norway is a country of relatively small population (~ 5 million) it has a well-developed culinary scene. The scene is however very different through the entire country -- from very sophisticated and posh Michelin-starred restaurants in the biggest cities to simple food places in smaller towns. Each year many restaurants get opened but also many get closed due to mismatch between the restaurant type and specific culinary tastes in the Norwegian towns. I aim to close the gap between the tastes and types of newly opened restaurants -- this work will show which food venue type has the best chances to succeed in the biggest 15 Norwegian cities and towns. I hope this work will be a directly useful for these who want to establish a new venue and for municipalities who grant restaurant permits. In addition, the study will be interesting for broader public to understand the culinary preferences of different regions and infer what may it say about the culture. In addition, the study may serve as a guideline for travelers to set right culinary expectations."
      ]
    },
    {
      "cell_type": "markdown",
      "metadata": {
        "id": "Hjt0O5kB_kn2",
        "colab_type": "text"
      },
      "source": [
        "# Data"
      ]
    },
    {
      "cell_type": "markdown",
      "metadata": {
        "id": "h2LU0eam_mdK",
        "colab_type": "text"
      },
      "source": [
        "\n",
        "Data composes of 3 sources.\n",
        "1. Data from Statistics Norway about population (http://www.ssb.no)\n",
        "\t\n",
        "2. Data from Foursquare API (https://developer.foursquare.com/docs).\n",
        "Foursquare API, a location data provider, will be used to make RESTful API calls to retrieve data about venues in different neighborhoods. This is the link to Foursquare Venue Category Hierarchy. Venues retrieved from all the neighborhoods are categorized broadly into \"Arts & Entertainment\", \"College & University\", \"Event\", \"Food\", \"Nightlife Spot\", \"Outdoors & Recreation\", etc. The data was used to get food venues around centers of towns.\n",
        "\t\n",
        "3. Data from Google Geocoding API (https://developers.google.com/maps/documentation/geocoding/start).\n",
        "Geocoding is the process of converting addresses (like a street address) into geographic coordinates (like latitude and longitude), which you can use to place markers on a map or position the map. The data was used to get geographical coordinates of the towns' centers.\n"
      ]
    },
    {
      "cell_type": "code",
      "metadata": {
        "id": "qeziG7kI_G4G",
        "colab_type": "code",
        "colab": {}
      },
      "source": [
        ""
      ],
      "execution_count": 0,
      "outputs": []
    }
  ]
}